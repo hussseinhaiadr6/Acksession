{
  "nbformat": 4,
  "nbformat_minor": 0,
  "metadata": {
    "colab": {
      "provenance": []
    },
    "kernelspec": {
      "name": "python3",
      "display_name": "Python 3"
    },
    "language_info": {
      "name": "python"
    }
  },
  "cells": [
    {
      "cell_type": "code",
      "execution_count": null,
      "metadata": {
        "colab": {
          "base_uri": "https://localhost:8080/"
        },
        "id": "28LVGjGNEMfg",
        "outputId": "7e26075c-c997-431a-c321-43987c54cf4e"
      },
      "outputs": [
        {
          "output_type": "stream",
          "name": "stdout",
          "text": [
            "Collecting roboflow\n",
            "  Downloading roboflow-1.1.44-py3-none-any.whl.metadata (9.7 kB)\n",
            "Requirement already satisfied: certifi in /usr/local/lib/python3.10/dist-packages (from roboflow) (2024.7.4)\n",
            "Requirement already satisfied: idna==3.7 in /usr/local/lib/python3.10/dist-packages (from roboflow) (3.7)\n",
            "Requirement already satisfied: cycler in /usr/local/lib/python3.10/dist-packages (from roboflow) (0.12.1)\n",
            "Requirement already satisfied: kiwisolver>=1.3.1 in /usr/local/lib/python3.10/dist-packages (from roboflow) (1.4.5)\n",
            "Requirement already satisfied: matplotlib in /usr/local/lib/python3.10/dist-packages (from roboflow) (3.7.1)\n",
            "Requirement already satisfied: numpy>=1.18.5 in /usr/local/lib/python3.10/dist-packages (from roboflow) (1.26.4)\n",
            "Requirement already satisfied: opencv-python-headless==4.10.0.84 in /usr/local/lib/python3.10/dist-packages (from roboflow) (4.10.0.84)\n",
            "Requirement already satisfied: Pillow>=7.1.2 in /usr/local/lib/python3.10/dist-packages (from roboflow) (9.4.0)\n",
            "Requirement already satisfied: python-dateutil in /usr/local/lib/python3.10/dist-packages (from roboflow) (2.8.2)\n",
            "Collecting python-dotenv (from roboflow)\n",
            "  Downloading python_dotenv-1.0.1-py3-none-any.whl.metadata (23 kB)\n",
            "Requirement already satisfied: requests in /usr/local/lib/python3.10/dist-packages (from roboflow) (2.32.3)\n",
            "Requirement already satisfied: six in /usr/local/lib/python3.10/dist-packages (from roboflow) (1.16.0)\n",
            "Requirement already satisfied: urllib3>=1.26.6 in /usr/local/lib/python3.10/dist-packages (from roboflow) (2.0.7)\n",
            "Requirement already satisfied: tqdm>=4.41.0 in /usr/local/lib/python3.10/dist-packages (from roboflow) (4.66.5)\n",
            "Requirement already satisfied: PyYAML>=5.3.1 in /usr/local/lib/python3.10/dist-packages (from roboflow) (6.0.2)\n",
            "Collecting requests-toolbelt (from roboflow)\n",
            "  Downloading requests_toolbelt-1.0.0-py2.py3-none-any.whl.metadata (14 kB)\n",
            "Collecting filetype (from roboflow)\n",
            "  Downloading filetype-1.2.0-py2.py3-none-any.whl.metadata (6.5 kB)\n",
            "Requirement already satisfied: contourpy>=1.0.1 in /usr/local/lib/python3.10/dist-packages (from matplotlib->roboflow) (1.2.1)\n",
            "Requirement already satisfied: fonttools>=4.22.0 in /usr/local/lib/python3.10/dist-packages (from matplotlib->roboflow) (4.53.1)\n",
            "Requirement already satisfied: packaging>=20.0 in /usr/local/lib/python3.10/dist-packages (from matplotlib->roboflow) (24.1)\n",
            "Requirement already satisfied: pyparsing>=2.3.1 in /usr/local/lib/python3.10/dist-packages (from matplotlib->roboflow) (3.1.2)\n",
            "Requirement already satisfied: charset-normalizer<4,>=2 in /usr/local/lib/python3.10/dist-packages (from requests->roboflow) (3.3.2)\n",
            "Downloading roboflow-1.1.44-py3-none-any.whl (79 kB)\n",
            "\u001b[2K   \u001b[90m━━━━━━━━━━━━━━━━━━━━━━━━━━━━━━━━━━━━━━━━\u001b[0m \u001b[32m79.9/79.9 kB\u001b[0m \u001b[31m3.3 MB/s\u001b[0m eta \u001b[36m0:00:00\u001b[0m\n",
            "\u001b[?25hDownloading filetype-1.2.0-py2.py3-none-any.whl (19 kB)\n",
            "Downloading python_dotenv-1.0.1-py3-none-any.whl (19 kB)\n",
            "Downloading requests_toolbelt-1.0.0-py2.py3-none-any.whl (54 kB)\n",
            "\u001b[2K   \u001b[90m━━━━━━━━━━━━━━━━━━━━━━━━━━━━━━━━━━━━━━━━\u001b[0m \u001b[32m54.5/54.5 kB\u001b[0m \u001b[31m3.7 MB/s\u001b[0m eta \u001b[36m0:00:00\u001b[0m\n",
            "\u001b[?25hInstalling collected packages: filetype, python-dotenv, requests-toolbelt, roboflow\n",
            "Successfully installed filetype-1.2.0 python-dotenv-1.0.1 requests-toolbelt-1.0.0 roboflow-1.1.44\n"
          ]
        }
      ],
      "source": [
        "!pip install roboflow"
      ]
    },
    {
      "cell_type": "code",
      "source": [
        "datasets = {\n",
        "    \"Roboflow\": [\n",
        "        {\n",
        "            \"workspace\": \"yakand\",\n",
        "            \"project\": \"lpr-cckha\",\n",
        "            \"version\": 1,\n",
        "            \"format\": [\n",
        "                \"yolov8\",\n",
        "                \"yolov5\"\n",
        "            ],\n",
        "            \"unwanted_classes\": [\n",
        "                3,\n",
        "                5,\n",
        "                6,\n",
        "                7,\n",
        "                9,\n",
        "                10,\n",
        "                11,\n",
        "                14,\n",
        "                19,\n",
        "                20,\n",
        "                24,\n",
        "                25,\n",
        "                27,\n",
        "                28,\n",
        "                29,\n",
        "                31,\n",
        "                35,\n",
        "                36,\n",
        "                39,\n",
        "                41,\n",
        "                42\n",
        "            ],\n",
        "            \"class_map\": {\n",
        "                \"0\": 0,\n",
        "                \"1\": 1,\n",
        "                \"2\": 10,\n",
        "                \"3\": 11,\n",
        "                \"4\": 12,\n",
        "                \"5\": 13,\n",
        "                \"6\": 14,\n",
        "                \"7\": 15,\n",
        "                \"8\": 16,\n",
        "                \"9\": 17,\n",
        "                \"10\": 18,\n",
        "                \"11\": 19,\n",
        "                \"12\": 2,\n",
        "                \"13\": 20,\n",
        "                \"14\": 21,\n",
        "                \"15\": 22,\n",
        "                \"16\": 23,\n",
        "                \"17\": 24,\n",
        "                \"18\": 25,\n",
        "                \"19\": 26,\n",
        "                \"20\": 27,\n",
        "                \"21\": 28,\n",
        "                \"22\": 29,\n",
        "                \"23\": 3,\n",
        "                \"24\": 30,\n",
        "                \"25\": 31,\n",
        "                \"26\": 32,\n",
        "                \"27\": 33,\n",
        "                \"28\": 34,\n",
        "                \"29\": 35,\n",
        "                \"30\": 36,\n",
        "                \"31\": 37,\n",
        "                \"32\": 38,\n",
        "                \"33\": 39,\n",
        "                \"34\": 4,\n",
        "                \"35\": 40,\n",
        "                \"36\": 41,\n",
        "                \"37\": 42,\n",
        "                \"38\": 43,\n",
        "                \"39\": 44,\n",
        "                \"40\": 45,\n",
        "                \"41\": 46,\n",
        "                \"42\": 47,\n",
        "                \"43\": 5,\n",
        "                \"44\": 6,\n",
        "                \"45\": 7,\n",
        "                \"46\": 8,\n",
        "                \"47\": 9\n",
        "            }\n",
        "        },\n",
        "        {\n",
        "            \"workspace\": \"msc-9pkbx\",\n",
        "            \"project\": \"new-zfexd\",\n",
        "            \"version\": 1,\n",
        "            \"format\": [\n",
        "                \"yolov8\",\n",
        "                \"yolov5\"\n",
        "            ],\n",
        "            \"unwanted_classes\": [\n",
        "                11,\n",
        "                13,\n",
        "                14,\n",
        "                15,\n",
        "                17,\n",
        "                18,\n",
        "                19,\n",
        "                21,\n",
        "                26,\n",
        "                27,\n",
        "                30,\n",
        "                31,\n",
        "                33,\n",
        "                34,\n",
        "                35,\n",
        "                37,\n",
        "                40,\n",
        "                41,\n",
        "                44,\n",
        "                46,\n",
        "                47\n",
        "            ],\n",
        "            \"class_map\": None\n",
        "        }\n",
        "    ]\n",
        "}"
      ],
      "metadata": {
        "id": "ZoBOiSnKE5KR"
      },
      "execution_count": null,
      "outputs": []
    },
    {
      "cell_type": "code",
      "source": [
        "from roboflow import Roboflow\n",
        "from google.colab import userdata\n",
        "\n",
        "def download_roboflow_datasets(dataset, rf):\n",
        "    \"\"\"Download datasets from Roboflow to local directory.\"\"\"\n",
        "    for rf_dataset in datasets[\"Roboflow\"]:  # iterate through Roboflow datasets\n",
        "      project = rf.workspace(rf_dataset[\"workspace\"]).project(rf_dataset[\"project\"])\n",
        "      version = project.version(rf_dataset[\"version\"])\n",
        "      dataset = version.download(\"yolov5\", \"./\" + rf_dataset[\"project\"] + \"/\")\n",
        "      #process_classes(\"./\" + rf_dataset[\"project\"] + \"/\")\n",
        "\n",
        "ROBOFLOW_API_KEY = userdata.get(\"ROBOFLOW_API_KEY\")\n",
        "rf = Roboflow(api_key=ROBOFLOW_API_KEY)\n",
        "\n",
        "download_roboflow_datasets(datasets, rf)"
      ],
      "metadata": {
        "colab": {
          "base_uri": "https://localhost:8080/"
        },
        "id": "UHl8DGRkE8oZ",
        "outputId": "77d40dff-06b5-4f94-9380-e376a97c0bc0"
      },
      "execution_count": null,
      "outputs": [
        {
          "output_type": "stream",
          "name": "stdout",
          "text": [
            "loading Roboflow workspace...\n",
            "loading Roboflow project...\n"
          ]
        },
        {
          "output_type": "stream",
          "name": "stderr",
          "text": [
            "Downloading Dataset Version Zip in ./lpr-cckha/ to yolov5pytorch:: 100%|██████████| 323430/323430 [00:10<00:00, 31837.67it/s]"
          ]
        },
        {
          "output_type": "stream",
          "name": "stdout",
          "text": [
            "\n"
          ]
        },
        {
          "output_type": "stream",
          "name": "stderr",
          "text": [
            "\n",
            "Extracting Dataset Version Zip to ./lpr-cckha/ in yolov5pytorch:: 100%|██████████| 18380/18380 [00:05<00:00, 3133.63it/s]\n"
          ]
        },
        {
          "output_type": "stream",
          "name": "stdout",
          "text": [
            "loading Roboflow workspace...\n",
            "loading Roboflow project...\n"
          ]
        },
        {
          "output_type": "stream",
          "name": "stderr",
          "text": [
            "Downloading Dataset Version Zip in ./new-zfexd/ to yolov5pytorch:: 100%|██████████| 378130/378130 [00:11<00:00, 32216.80it/s]"
          ]
        },
        {
          "output_type": "stream",
          "name": "stdout",
          "text": [
            "\n"
          ]
        },
        {
          "output_type": "stream",
          "name": "stderr",
          "text": [
            "\n",
            "Extracting Dataset Version Zip to ./new-zfexd/ in yolov5pytorch:: 100%|██████████| 20670/20670 [00:06<00:00, 3362.16it/s]\n"
          ]
        }
      ]
    },
    {
      "cell_type": "code",
      "source": [
        "import os\n",
        "\n",
        "def process_classes(dataset_dir, unwanted_classes):\n",
        "    \"\"\"Filter out classes unrelated to Arabic OCR\"\"\"\n",
        "    dirs = [\"train/\", \"test/\", \"valid/\"]\n",
        "\n",
        "    for dir in dirs:\n",
        "        path = dataset_dir + dir + \"labels/\"\n",
        "        for label in os.listdir(path):\n",
        "            with open(path + label, \"r\") as f:\n",
        "                lines = f.readlines()\n",
        "                for i in range(len(lines)):\n",
        "                    class_id = int(lines[i].split(\" \")[0])\n",
        "                    if class_id in unwanted_classes:\n",
        "                        lines[i] = \"\"\n",
        "\n",
        "            with open(path + label, \"w\") as f:\n",
        "                f.writelines(lines)\n",
        "\n",
        "process_classes(\"./lpr-cckha/\", datasets[\"Roboflow\"][0][\"unwanted_classes\"])\n",
        "process_classes(\"./new-zfexd/\", datasets[\"Roboflow\"][1][\"unwanted_classes\"])"
      ],
      "metadata": {
        "id": "qy8FyLqLFD-8"
      },
      "execution_count": null,
      "outputs": []
    },
    {
      "cell_type": "code",
      "source": [
        "import os\n",
        "\n",
        "def clean_dataset(dataset_dir):\n",
        "    dirs = [\"train/\", \"test/\", \"valid/\"]\n",
        "    for dir in dirs:\n",
        "        path = dataset_dir + dir + \"labels/\"\n",
        "        for label in os.listdir(path):\n",
        "            f = open(path + label, \"r\")\n",
        "            lines = f.readlines()\n",
        "            f.close()\n",
        "            if len(lines) == 0:\n",
        "                os.remove(path + label)\n",
        "                os.remove(dataset_dir + dir + \"images/\" + label[:-3] + \"jpg\")\n",
        "\n",
        "\n",
        "\n",
        "clean_dataset(\"./lpr-cckha/\")\n",
        "clean_dataset(\"./new-zfexd/\")"
      ],
      "metadata": {
        "id": "HG1coClqFMWJ"
      },
      "execution_count": null,
      "outputs": []
    },
    {
      "cell_type": "code",
      "source": [
        "import os\n",
        "import shutil\n",
        "\n",
        "def build_dirs(dataset):\n",
        "    os.makedirs(dataset + \"train/images/\")\n",
        "    os.makedirs(dataset + \"train/labels/\")\n",
        "\n",
        "    os.makedirs(dataset + \"test/images/\")\n",
        "    os.makedirs(dataset + \"test/labels/\")\n",
        "\n",
        "    os.makedirs(dataset + \"valid/images/\")\n",
        "    os.makedirs(dataset + \"valid/labels/\")\n",
        "\n",
        "\n",
        "import random\n",
        "import shutil\n",
        "\n",
        "def compile_dataset(data):\n",
        "    \"\"\"Compile datasets from Roboflow into a single directory\"\"\"\n",
        "    build_dirs(\"./arabic_compiled_dataset/\")\n",
        "    for dataset in data[\"Roboflow\"]:\n",
        "        dataset_dir = \"./\" + dataset[\"project\"] + \"/\"\n",
        "        dirs = [\"train/\", \"test/\", \"valid/\"]\n",
        "        for dir in dirs:\n",
        "            for image in os.listdir(dataset_dir + dir + \"images/\"):\n",
        "                write = True\n",
        "                label = image[:-3] + \"txt\"\n",
        "                label_file = dataset_dir + dir + \"labels/\" + label\n",
        "                if dataset[\"class_map\"] is not None:\n",
        "                    with open(label_file, \"r\") as label_f:\n",
        "                        lines = label_f.readlines()\n",
        "                        for i in range(len(lines)):\n",
        "                            class_id = lines[i].split(\" \")[0]\n",
        "                            class_id = dataset[\"class_map\"][class_id]\n",
        "                            lines[i] = str(class_id) + \" \" + \" \".join(lines[i].split(\" \")[1:])\n",
        "                            write = random.random() < 0.1 if str(class_id) == '35' else write\n",
        "                    with open(label_file, \"w\") as label_f:\n",
        "                        label_f.writelines(lines)\n",
        "                if write:\n",
        "                  shutil.copy(dataset_dir + dir + \"images/\" + image, \"./arabic_compiled_dataset/\" + dir + \"images/\")\n",
        "                  shutil.copy(dataset_dir + dir + \"labels/\" + label, \"./arabic_compiled_dataset/\" + dir + \"labels/\")\n",
        "\n",
        "compile_dataset(datasets)"
      ],
      "metadata": {
        "id": "Kb_fb4EsFU_7"
      },
      "execution_count": null,
      "outputs": []
    },
    {
      "cell_type": "code",
      "source": [
        "import cv2\n",
        "import os\n",
        "\n",
        "def remove_duplicates(dataset_dir):\n",
        "    dirs = [\"train/\", \"test/\", \"valid/\"]\n",
        "    for dir in dirs:\n",
        "        images = os.listdir(dataset_dir + dir + \"images/\")\n",
        "        for i in range(1, len(images)):\n",
        "            old_name = images[i-1].split(\".rf\")[0]\n",
        "            next_name = images[i].split(\".rf\")[0]\n",
        "            label_name = images[i][:-3] + \"txt\"\n",
        "\n",
        "            if old_name == next_name:\n",
        "                os.remove(dataset_dir + dir + \"images/\" + images[i])\n",
        "                os.remove(dataset_dir + dir + \"labels/\" + label_name)\n",
        "\n",
        "\n",
        "remove_duplicates(\"./arabic_compiled_dataset/\")\n"
      ],
      "metadata": {
        "id": "SOWxNTHHFYvk"
      },
      "execution_count": null,
      "outputs": []
    },
    {
      "cell_type": "code",
      "source": [
        "!pip install yolov5"
      ],
      "metadata": {
        "colab": {
          "base_uri": "https://localhost:8080/",
          "height": 1000
        },
        "id": "DqFbY5tvFcxp",
        "outputId": "00fb16d5-c339-4579-ea8b-3786e69b72eb"
      },
      "execution_count": null,
      "outputs": [
        {
          "output_type": "stream",
          "name": "stdout",
          "text": [
            "Collecting yolov5\n",
            "  Downloading yolov5-7.0.13-py37.py38.py39.py310-none-any.whl.metadata (10 kB)\n",
            "Collecting gitpython>=3.1.30 (from yolov5)\n",
            "  Downloading GitPython-3.1.43-py3-none-any.whl.metadata (13 kB)\n",
            "Requirement already satisfied: matplotlib>=3.3 in /usr/local/lib/python3.10/dist-packages (from yolov5) (3.7.1)\n",
            "Requirement already satisfied: numpy>=1.18.5 in /usr/local/lib/python3.10/dist-packages (from yolov5) (1.26.4)\n",
            "Requirement already satisfied: opencv-python>=4.1.1 in /usr/local/lib/python3.10/dist-packages (from yolov5) (4.10.0.84)\n",
            "Requirement already satisfied: Pillow>=7.1.2 in /usr/local/lib/python3.10/dist-packages (from yolov5) (9.4.0)\n",
            "Requirement already satisfied: psutil in /usr/local/lib/python3.10/dist-packages (from yolov5) (5.9.5)\n",
            "Requirement already satisfied: PyYAML>=5.3.1 in /usr/local/lib/python3.10/dist-packages (from yolov5) (6.0.2)\n",
            "Requirement already satisfied: requests>=2.23.0 in /usr/local/lib/python3.10/dist-packages (from yolov5) (2.32.3)\n",
            "Requirement already satisfied: scipy>=1.4.1 in /usr/local/lib/python3.10/dist-packages (from yolov5) (1.13.1)\n",
            "Collecting thop>=0.1.1 (from yolov5)\n",
            "  Downloading thop-0.1.1.post2209072238-py3-none-any.whl.metadata (2.7 kB)\n",
            "Requirement already satisfied: torch>=1.7.0 in /usr/local/lib/python3.10/dist-packages (from yolov5) (2.4.0+cu121)\n",
            "Requirement already satisfied: torchvision>=0.8.1 in /usr/local/lib/python3.10/dist-packages (from yolov5) (0.19.0+cu121)\n",
            "Requirement already satisfied: tqdm>=4.64.0 in /usr/local/lib/python3.10/dist-packages (from yolov5) (4.66.5)\n",
            "Collecting ultralytics>=8.0.100 (from yolov5)\n",
            "  Downloading ultralytics-8.2.82-py3-none-any.whl.metadata (41 kB)\n",
            "\u001b[2K     \u001b[90m━━━━━━━━━━━━━━━━━━━━━━━━━━━━━━━━━━━━━━━━\u001b[0m \u001b[32m41.3/41.3 kB\u001b[0m \u001b[31m1.8 MB/s\u001b[0m eta \u001b[36m0:00:00\u001b[0m\n",
            "\u001b[?25hRequirement already satisfied: tensorboard>=2.4.1 in /usr/local/lib/python3.10/dist-packages (from yolov5) (2.17.0)\n",
            "Requirement already satisfied: pandas>=1.1.4 in /usr/local/lib/python3.10/dist-packages (from yolov5) (2.1.4)\n",
            "Requirement already satisfied: seaborn>=0.11.0 in /usr/local/lib/python3.10/dist-packages (from yolov5) (0.13.1)\n",
            "Requirement already satisfied: setuptools>=65.5.1 in /usr/local/lib/python3.10/dist-packages (from yolov5) (71.0.4)\n",
            "Collecting fire (from yolov5)\n",
            "  Downloading fire-0.6.0.tar.gz (88 kB)\n",
            "\u001b[2K     \u001b[90m━━━━━━━━━━━━━━━━━━━━━━━━━━━━━━━━━━━━━━━━\u001b[0m \u001b[32m88.4/88.4 kB\u001b[0m \u001b[31m4.2 MB/s\u001b[0m eta \u001b[36m0:00:00\u001b[0m\n",
            "\u001b[?25h  Preparing metadata (setup.py) ... \u001b[?25l\u001b[?25hdone\n",
            "Collecting boto3>=1.19.1 (from yolov5)\n",
            "  Downloading boto3-1.35.7-py3-none-any.whl.metadata (6.6 kB)\n",
            "Collecting sahi>=0.11.10 (from yolov5)\n",
            "  Downloading sahi-0.11.18-py3-none-any.whl.metadata (17 kB)\n",
            "Requirement already satisfied: huggingface-hub>=0.12.0 in /usr/local/lib/python3.10/dist-packages (from yolov5) (0.23.5)\n",
            "Requirement already satisfied: roboflow>=0.2.29 in /usr/local/lib/python3.10/dist-packages (from yolov5) (1.1.44)\n",
            "Collecting botocore<1.36.0,>=1.35.7 (from boto3>=1.19.1->yolov5)\n",
            "  Downloading botocore-1.35.7-py3-none-any.whl.metadata (5.7 kB)\n",
            "Collecting jmespath<2.0.0,>=0.7.1 (from boto3>=1.19.1->yolov5)\n",
            "  Downloading jmespath-1.0.1-py3-none-any.whl.metadata (7.6 kB)\n",
            "Collecting s3transfer<0.11.0,>=0.10.0 (from boto3>=1.19.1->yolov5)\n",
            "  Downloading s3transfer-0.10.2-py3-none-any.whl.metadata (1.7 kB)\n",
            "Collecting gitdb<5,>=4.0.1 (from gitpython>=3.1.30->yolov5)\n",
            "  Downloading gitdb-4.0.11-py3-none-any.whl.metadata (1.2 kB)\n",
            "Requirement already satisfied: filelock in /usr/local/lib/python3.10/dist-packages (from huggingface-hub>=0.12.0->yolov5) (3.15.4)\n",
            "Requirement already satisfied: fsspec>=2023.5.0 in /usr/local/lib/python3.10/dist-packages (from huggingface-hub>=0.12.0->yolov5) (2024.6.1)\n",
            "Requirement already satisfied: packaging>=20.9 in /usr/local/lib/python3.10/dist-packages (from huggingface-hub>=0.12.0->yolov5) (24.1)\n",
            "Requirement already satisfied: typing-extensions>=3.7.4.3 in /usr/local/lib/python3.10/dist-packages (from huggingface-hub>=0.12.0->yolov5) (4.12.2)\n",
            "Requirement already satisfied: contourpy>=1.0.1 in /usr/local/lib/python3.10/dist-packages (from matplotlib>=3.3->yolov5) (1.2.1)\n",
            "Requirement already satisfied: cycler>=0.10 in /usr/local/lib/python3.10/dist-packages (from matplotlib>=3.3->yolov5) (0.12.1)\n",
            "Requirement already satisfied: fonttools>=4.22.0 in /usr/local/lib/python3.10/dist-packages (from matplotlib>=3.3->yolov5) (4.53.1)\n",
            "Requirement already satisfied: kiwisolver>=1.0.1 in /usr/local/lib/python3.10/dist-packages (from matplotlib>=3.3->yolov5) (1.4.5)\n",
            "Requirement already satisfied: pyparsing>=2.3.1 in /usr/local/lib/python3.10/dist-packages (from matplotlib>=3.3->yolov5) (3.1.2)\n",
            "Requirement already satisfied: python-dateutil>=2.7 in /usr/local/lib/python3.10/dist-packages (from matplotlib>=3.3->yolov5) (2.8.2)\n",
            "Requirement already satisfied: pytz>=2020.1 in /usr/local/lib/python3.10/dist-packages (from pandas>=1.1.4->yolov5) (2024.1)\n",
            "Requirement already satisfied: tzdata>=2022.1 in /usr/local/lib/python3.10/dist-packages (from pandas>=1.1.4->yolov5) (2024.1)\n",
            "Requirement already satisfied: charset-normalizer<4,>=2 in /usr/local/lib/python3.10/dist-packages (from requests>=2.23.0->yolov5) (3.3.2)\n",
            "Requirement already satisfied: idna<4,>=2.5 in /usr/local/lib/python3.10/dist-packages (from requests>=2.23.0->yolov5) (3.7)\n",
            "Requirement already satisfied: urllib3<3,>=1.21.1 in /usr/local/lib/python3.10/dist-packages (from requests>=2.23.0->yolov5) (2.0.7)\n",
            "Requirement already satisfied: certifi>=2017.4.17 in /usr/local/lib/python3.10/dist-packages (from requests>=2.23.0->yolov5) (2024.7.4)\n",
            "Requirement already satisfied: opencv-python-headless==4.10.0.84 in /usr/local/lib/python3.10/dist-packages (from roboflow>=0.2.29->yolov5) (4.10.0.84)\n",
            "Requirement already satisfied: python-dotenv in /usr/local/lib/python3.10/dist-packages (from roboflow>=0.2.29->yolov5) (1.0.1)\n",
            "Requirement already satisfied: six in /usr/local/lib/python3.10/dist-packages (from roboflow>=0.2.29->yolov5) (1.16.0)\n",
            "Requirement already satisfied: requests-toolbelt in /usr/local/lib/python3.10/dist-packages (from roboflow>=0.2.29->yolov5) (1.0.0)\n",
            "Requirement already satisfied: filetype in /usr/local/lib/python3.10/dist-packages (from roboflow>=0.2.29->yolov5) (1.2.0)\n",
            "Collecting opencv-python>=4.1.1 (from yolov5)\n",
            "  Downloading opencv_python-4.9.0.80-cp37-abi3-manylinux_2_17_x86_64.manylinux2014_x86_64.whl.metadata (20 kB)\n",
            "Requirement already satisfied: shapely>=1.8.0 in /usr/local/lib/python3.10/dist-packages (from sahi>=0.11.10->yolov5) (2.0.6)\n",
            "Collecting pybboxes==0.1.6 (from sahi>=0.11.10->yolov5)\n",
            "  Downloading pybboxes-0.1.6-py3-none-any.whl.metadata (9.9 kB)\n",
            "Collecting terminaltables (from sahi>=0.11.10->yolov5)\n",
            "  Downloading terminaltables-3.1.10-py2.py3-none-any.whl.metadata (3.5 kB)\n",
            "Requirement already satisfied: click in /usr/local/lib/python3.10/dist-packages (from sahi>=0.11.10->yolov5) (8.1.7)\n",
            "Requirement already satisfied: absl-py>=0.4 in /usr/local/lib/python3.10/dist-packages (from tensorboard>=2.4.1->yolov5) (1.4.0)\n",
            "Requirement already satisfied: grpcio>=1.48.2 in /usr/local/lib/python3.10/dist-packages (from tensorboard>=2.4.1->yolov5) (1.64.1)\n",
            "Requirement already satisfied: markdown>=2.6.8 in /usr/local/lib/python3.10/dist-packages (from tensorboard>=2.4.1->yolov5) (3.7)\n",
            "Requirement already satisfied: protobuf!=4.24.0,<5.0.0,>=3.19.6 in /usr/local/lib/python3.10/dist-packages (from tensorboard>=2.4.1->yolov5) (3.20.3)\n",
            "Requirement already satisfied: tensorboard-data-server<0.8.0,>=0.7.0 in /usr/local/lib/python3.10/dist-packages (from tensorboard>=2.4.1->yolov5) (0.7.2)\n",
            "Requirement already satisfied: werkzeug>=1.0.1 in /usr/local/lib/python3.10/dist-packages (from tensorboard>=2.4.1->yolov5) (3.0.4)\n",
            "Requirement already satisfied: sympy in /usr/local/lib/python3.10/dist-packages (from torch>=1.7.0->yolov5) (1.13.2)\n",
            "Requirement already satisfied: networkx in /usr/local/lib/python3.10/dist-packages (from torch>=1.7.0->yolov5) (3.3)\n",
            "Requirement already satisfied: jinja2 in /usr/local/lib/python3.10/dist-packages (from torch>=1.7.0->yolov5) (3.1.4)\n",
            "Requirement already satisfied: py-cpuinfo in /usr/local/lib/python3.10/dist-packages (from ultralytics>=8.0.100->yolov5) (9.0.0)\n",
            "Collecting ultralytics-thop>=2.0.0 (from ultralytics>=8.0.100->yolov5)\n",
            "  Downloading ultralytics_thop-2.0.5-py3-none-any.whl.metadata (8.9 kB)\n",
            "Requirement already satisfied: termcolor in /usr/local/lib/python3.10/dist-packages (from fire->yolov5) (2.4.0)\n",
            "Collecting smmap<6,>=3.0.1 (from gitdb<5,>=4.0.1->gitpython>=3.1.30->yolov5)\n",
            "  Downloading smmap-5.0.1-py3-none-any.whl.metadata (4.3 kB)\n",
            "Requirement already satisfied: MarkupSafe>=2.1.1 in /usr/local/lib/python3.10/dist-packages (from werkzeug>=1.0.1->tensorboard>=2.4.1->yolov5) (2.1.5)\n",
            "Requirement already satisfied: mpmath<1.4,>=1.1.0 in /usr/local/lib/python3.10/dist-packages (from sympy->torch>=1.7.0->yolov5) (1.3.0)\n",
            "Downloading yolov5-7.0.13-py37.py38.py39.py310-none-any.whl (953 kB)\n",
            "\u001b[2K   \u001b[90m━━━━━━━━━━━━━━━━━━━━━━━━━━━━━━━━━━━━━━━━\u001b[0m \u001b[32m953.4/953.4 kB\u001b[0m \u001b[31m19.6 MB/s\u001b[0m eta \u001b[36m0:00:00\u001b[0m\n",
            "\u001b[?25hDownloading boto3-1.35.7-py3-none-any.whl (139 kB)\n",
            "\u001b[2K   \u001b[90m━━━━━━━━━━━━━━━━━━━━━━━━━━━━━━━━━━━━━━━━\u001b[0m \u001b[32m139.1/139.1 kB\u001b[0m \u001b[31m8.7 MB/s\u001b[0m eta \u001b[36m0:00:00\u001b[0m\n",
            "\u001b[?25hDownloading GitPython-3.1.43-py3-none-any.whl (207 kB)\n",
            "\u001b[2K   \u001b[90m━━━━━━━━━━━━━━━━━━━━━━━━━━━━━━━━━━━━━━━━\u001b[0m \u001b[32m207.3/207.3 kB\u001b[0m \u001b[31m11.8 MB/s\u001b[0m eta \u001b[36m0:00:00\u001b[0m\n",
            "\u001b[?25hDownloading sahi-0.11.18-py3-none-any.whl (113 kB)\n",
            "\u001b[2K   \u001b[90m━━━━━━━━━━━━━━━━━━━━━━━━━━━━━━━━━━━━━━━━\u001b[0m \u001b[32m113.6/113.6 kB\u001b[0m \u001b[31m6.4 MB/s\u001b[0m eta \u001b[36m0:00:00\u001b[0m\n",
            "\u001b[?25hDownloading pybboxes-0.1.6-py3-none-any.whl (24 kB)\n",
            "Downloading opencv_python-4.9.0.80-cp37-abi3-manylinux_2_17_x86_64.manylinux2014_x86_64.whl (62.2 MB)\n",
            "\u001b[2K   \u001b[90m━━━━━━━━━━━━━━━━━━━━━━━━━━━━━━━━━━━━━━━━\u001b[0m \u001b[32m62.2/62.2 MB\u001b[0m \u001b[31m14.0 MB/s\u001b[0m eta \u001b[36m0:00:00\u001b[0m\n",
            "\u001b[?25hDownloading thop-0.1.1.post2209072238-py3-none-any.whl (15 kB)\n",
            "Downloading ultralytics-8.2.82-py3-none-any.whl (871 kB)\n",
            "\u001b[2K   \u001b[90m━━━━━━━━━━━━━━━━━━━━━━━━━━━━━━━━━━━━━━━━\u001b[0m \u001b[32m871.1/871.1 kB\u001b[0m \u001b[31m40.6 MB/s\u001b[0m eta \u001b[36m0:00:00\u001b[0m\n",
            "\u001b[?25hDownloading botocore-1.35.7-py3-none-any.whl (12.5 MB)\n",
            "\u001b[2K   \u001b[90m━━━━━━━━━━━━━━━━━━━━━━━━━━━━━━━━━━━━━━━━\u001b[0m \u001b[32m12.5/12.5 MB\u001b[0m \u001b[31m93.6 MB/s\u001b[0m eta \u001b[36m0:00:00\u001b[0m\n",
            "\u001b[?25hDownloading gitdb-4.0.11-py3-none-any.whl (62 kB)\n",
            "\u001b[2K   \u001b[90m━━━━━━━━━━━━━━━━━━━━━━━━━━━━━━━━━━━━━━━━\u001b[0m \u001b[32m62.7/62.7 kB\u001b[0m \u001b[31m4.4 MB/s\u001b[0m eta \u001b[36m0:00:00\u001b[0m\n",
            "\u001b[?25hDownloading jmespath-1.0.1-py3-none-any.whl (20 kB)\n",
            "Downloading s3transfer-0.10.2-py3-none-any.whl (82 kB)\n",
            "\u001b[2K   \u001b[90m━━━━━━━━━━━━━━━━━━━━━━━━━━━━━━━━━━━━━━━━\u001b[0m \u001b[32m82.7/82.7 kB\u001b[0m \u001b[31m5.9 MB/s\u001b[0m eta \u001b[36m0:00:00\u001b[0m\n",
            "\u001b[?25hDownloading ultralytics_thop-2.0.5-py3-none-any.whl (25 kB)\n",
            "Downloading terminaltables-3.1.10-py2.py3-none-any.whl (15 kB)\n",
            "Downloading smmap-5.0.1-py3-none-any.whl (24 kB)\n",
            "Building wheels for collected packages: fire\n",
            "  Building wheel for fire (setup.py) ... \u001b[?25l\u001b[?25hdone\n",
            "  Created wheel for fire: filename=fire-0.6.0-py2.py3-none-any.whl size=117030 sha256=0a8cb07f692cd856c13747ce4fd384d713340c5668601df385f4d2c83dfbaf0d\n",
            "  Stored in directory: /root/.cache/pip/wheels/d6/6d/5d/5b73fa0f46d01a793713f8859201361e9e581ced8c75e5c6a3\n",
            "Successfully built fire\n",
            "Installing collected packages: terminaltables, smmap, pybboxes, opencv-python, jmespath, fire, sahi, gitdb, botocore, ultralytics-thop, thop, s3transfer, gitpython, ultralytics, boto3, yolov5\n",
            "  Attempting uninstall: opencv-python\n",
            "    Found existing installation: opencv-python 4.10.0.84\n",
            "    Uninstalling opencv-python-4.10.0.84:\n",
            "      Successfully uninstalled opencv-python-4.10.0.84\n",
            "Successfully installed boto3-1.35.7 botocore-1.35.7 fire-0.6.0 gitdb-4.0.11 gitpython-3.1.43 jmespath-1.0.1 opencv-python-4.9.0.80 pybboxes-0.1.6 s3transfer-0.10.2 sahi-0.11.18 smmap-5.0.1 terminaltables-3.1.10 thop-0.1.1.post2209072238 ultralytics-8.2.82 ultralytics-thop-2.0.5 yolov5-7.0.13\n"
          ]
        },
        {
          "output_type": "display_data",
          "data": {
            "application/vnd.colab-display-data+json": {
              "pip_warning": {
                "packages": [
                  "cv2"
                ]
              },
              "id": "1bd07f6f03e9436ebf1951ffc7fe684a"
            }
          },
          "metadata": {}
        }
      ]
    },
    {
      "cell_type": "code",
      "source": [
        "import os\n",
        "\n",
        "def renumber_classes(dataset_dir, class_map):\n",
        "  dirs = [\"train/\", \"test/\", \"valid/\"]\n",
        "  for dir in dirs:\n",
        "    for label in os.listdir(dataset_dir + dir + \"labels/\"):\n",
        "      with open(dataset_dir + dir + \"labels/\" + label, \"r\") as f:\n",
        "        lines = f.readlines()\n",
        "        for i in range(len(lines)):\n",
        "          class_id = lines[i].split(\" \")[0]\n",
        "          class_id = class_map[int(class_id)]\n",
        "          lines[i] = str(class_id) + \" \" + \" \".join(lines[i].split(\" \")[1:])\n",
        "\n",
        "      with open(dataset_dir + dir + \"labels/\" + label, \"w\") as f:\n",
        "        f.writelines(lines)\n",
        "\n",
        "class_map = {\n",
        "    0: 0,\n",
        "    1: 1,\n",
        "    2: 2,\n",
        "    3: 3,\n",
        "    4: 4,\n",
        "    5: 5,\n",
        "    6: 6,\n",
        "    7: 7,\n",
        "    8: 8,\n",
        "    9: 9,\n",
        "    10: 10,\n",
        "    12: 11,\n",
        "    16: 12,\n",
        "    20: 13,\n",
        "    22: 14,\n",
        "    23: 15,\n",
        "    24: 16,\n",
        "    25: 17,\n",
        "    28: 18,\n",
        "    29: 19,\n",
        "    32: 20,\n",
        "    36: 21,\n",
        "    38: 22,\n",
        "    39: 23,\n",
        "    42: 24,\n",
        "    43: 25,\n",
        "    45: 26\n",
        "}\n",
        "\n",
        "renumber_classes(\"./arabic_compiled_dataset/\", class_map)"
      ],
      "metadata": {
        "id": "PtNXLIkhFlwL"
      },
      "execution_count": null,
      "outputs": []
    },
    {
      "cell_type": "code",
      "source": [
        "import os\n",
        "\n",
        "class_count = {}\n",
        "for label in os.listdir(\"./arabic_compiled_dataset/train/labels/\"):\n",
        "    with open(\"./arabic_compiled_dataset/train/labels/\" + label, \"r\") as f:\n",
        "        lines = f.readlines()\n",
        "        for line in lines:\n",
        "            class_id = line.split(\" \")[0]\n",
        "            if class_id not in class_count:\n",
        "                class_count[class_id] = 1\n",
        "            else:\n",
        "                class_count[class_id] += 1\n",
        "\n",
        "class_count"
      ],
      "metadata": {
        "colab": {
          "base_uri": "https://localhost:8080/"
        },
        "id": "qX_aP5YZxKWN",
        "outputId": "60edcfae-2ac8-4601-f456-84e2e48729ef"
      },
      "execution_count": null,
      "outputs": [
        {
          "output_type": "execute_result",
          "data": {
            "text/plain": [
              "{'8': 3247,\n",
              " '2': 4130,\n",
              " '6': 3579,\n",
              " '3': 3382,\n",
              " '0': 4123,\n",
              " '4': 3405,\n",
              " '7': 3787,\n",
              " '10': 705,\n",
              " '1': 3535,\n",
              " '5': 3793,\n",
              " '25': 197,\n",
              " '16': 214,\n",
              " '12': 145,\n",
              " '9': 3076,\n",
              " '17': 90,\n",
              " '20': 169,\n",
              " '21': 84,\n",
              " '22': 302,\n",
              " '24': 164,\n",
              " '19': 253,\n",
              " '14': 143,\n",
              " '15': 164,\n",
              " '23': 240,\n",
              " '13': 169,\n",
              " '11': 103,\n",
              " '18': 78,\n",
              " '26': 34}"
            ]
          },
          "metadata": {},
          "execution_count": 2
        }
      ]
    },
    {
      "cell_type": "code",
      "source": [
        "import os\n",
        "\n",
        "print(len(os.listdir(\"./arabic_compiled_dataset/train/images/\")))\n",
        "print(len(os.listdir(\"./arabic_compiled_dataset/test/images/\")))\n",
        "print(len(os.listdir(\"./arabic_compiled_dataset/valid/images/\")))"
      ],
      "metadata": {
        "colab": {
          "base_uri": "https://localhost:8080/"
        },
        "id": "rxQVaW7jxNhp",
        "outputId": "99110c26-1457-4795-9a36-e95f7d8bd929"
      },
      "execution_count": null,
      "outputs": [
        {
          "output_type": "stream",
          "name": "stdout",
          "text": [
            "7933\n",
            "370\n",
            "785\n"
          ]
        }
      ]
    },
    {
      "cell_type": "code",
      "source": [
        "!yolov5 train --weights yolov5s.pt --img 640 --epochs 30 --data ./arabic_ocr.yaml"
      ],
      "metadata": {
        "id": "y6tNzxYXNMO_"
      },
      "execution_count": null,
      "outputs": []
    },
    {
      "cell_type": "code",
      "source": [
        "!yolov5 val --weights ./ocr_2.pt --data ./arabic_ocr.yaml --img 640"
      ],
      "metadata": {
        "colab": {
          "base_uri": "https://localhost:8080/"
        },
        "id": "9geY5JvgGvCc",
        "outputId": "ba271583-39a0-4b82-e8a6-13ebfccd784f"
      },
      "execution_count": null,
      "outputs": [
        {
          "output_type": "stream",
          "name": "stdout",
          "text": [
            "2024-08-27 18:31:43.761342: E external/local_xla/xla/stream_executor/cuda/cuda_fft.cc:485] Unable to register cuFFT factory: Attempting to register factory for plugin cuFFT when one has already been registered\n",
            "2024-08-27 18:31:43.799551: E external/local_xla/xla/stream_executor/cuda/cuda_dnn.cc:8454] Unable to register cuDNN factory: Attempting to register factory for plugin cuDNN when one has already been registered\n",
            "2024-08-27 18:31:43.811093: E external/local_xla/xla/stream_executor/cuda/cuda_blas.cc:1452] Unable to register cuBLAS factory: Attempting to register factory for plugin cuBLAS when one has already been registered\n",
            "YOLOv5 🚀 2024-8-27 Python-3.10.12 torch-2.4.0+cu121 CPU\n",
            "\n",
            "Fusing layers... \n",
            "Model summary: 157 layers, 7082944 parameters, 0 gradients, 16.0 GFLOPs\n",
            "Downloading https://ultralytics.com/assets/Arial.ttf to /root/.config/Ultralytics/Arial.ttf...\n",
            "100% 755k/755k [00:00<00:00, 18.9MB/s]\n",
            "os.fork() was called. os.fork() is incompatible with multithreaded code, and JAX is multithreaded, so this will likely lead to a deadlock.\n",
            "\u001b[34m\u001b[1mval: \u001b[0mScanning /content/arabic_compiled_dataset/valid/labels... 785 images, 0 backgrounds, 0 corrupt: 100% 785/785 [00:00<00:00, 1162.33it/s]\n",
            "\u001b[34m\u001b[1mval: \u001b[0mNew cache created: /content/arabic_compiled_dataset/valid/labels.cache\n",
            "                 Class     Images  Instances          P          R      mAP50   mAP50-95: 100% 25/25 [09:34<00:00, 22.99s/it]\n",
            "                   all        785       3845      0.902      0.996       0.99      0.725\n",
            "                     0        785        401      0.942       0.99      0.991      0.565\n",
            "                     1        785        394      0.934       0.99      0.985      0.661\n",
            "                     2        785        374      0.925          1      0.991      0.753\n",
            "                     3        785        371      0.938          1      0.993      0.767\n",
            "                     4        785        316      0.962      0.994      0.992      0.755\n",
            "                     5        785        343      0.954          1      0.993      0.722\n",
            "                     6        785        346      0.959      0.994      0.992      0.764\n",
            "                     7        785        366      0.947      0.989      0.973       0.79\n",
            "                     8        785        346      0.947      0.988      0.978      0.771\n",
            "                     9        785        288       0.95      0.979      0.976      0.751\n",
            "                     a        785         76       0.99      0.974      0.977      0.486\n",
            "                     b        785         10       0.93          1      0.995      0.768\n",
            "                     d        785          8      0.912          1      0.995      0.781\n",
            "                     i        785         16      0.952          1      0.995      0.687\n",
            "                     f        785         12      0.817          1      0.995      0.783\n",
            "                     h        785         22      0.967          1      0.995      0.758\n",
            "                     j        785         21      0.879          1      0.995      0.769\n",
            "                     k        785         15      0.877          1      0.995      0.676\n",
            "                     l        785         12      0.824          1      0.972      0.715\n",
            "                     m        785         10      0.932          1      0.995      0.668\n",
            "                     n        785         16      0.849          1      0.982      0.759\n",
            "                   qaf        785          4      0.834          1      0.995      0.746\n",
            "                     r        785         24      0.967          1      0.995       0.69\n",
            "                     s        785         14      0.946          1      0.995      0.768\n",
            "                     t        785         21      0.821          1      0.987      0.752\n",
            "                     o        785         17      0.953          1      0.995      0.784\n",
            "                     z        785          2       0.46          1      0.995      0.697\n",
            "Speed: 8.0ms pre-process, 716.0ms inference, 1.9ms NMS per image at shape (32, 3, 640, 640)\n",
            "Results saved to \u001b[1mruns/val/exp\u001b[0m\n",
            "((0.9024247408994467, 0.9962268301648064, 0.9895150064799834, 0.7254367691537394, 0.0, 0.0, 0.0), array([    0.56525,     0.66146,     0.75342,     0.76652,     0.75516,      0.7223,     0.76351,     0.78963,     0.77134,     0.75148,     0.48562,     0.76817,     0.78058,     0.68707,      0.7828,     0.75755,     0.76915,     0.67614,     0.71524,     0.66811,     0.75878,     0.74636,     0.69026,     0.76769,            0.75242,     0.78428,      0.6965]), array([    0.99057,     0.98542,     0.99126,     0.99297,     0.99167,     0.99305,     0.99171,     0.97298,     0.97761,      0.9762,     0.97749,       0.995,       0.995,       0.995,       0.995,       0.995,       0.995,       0.995,     0.97214,       0.995,     0.98167,       0.995,       0.995,       0.995,            0.98717,       0.995,       0.995]), (8.033052067847768, 715.999544653923, 1.858296667694286))\n"
          ]
        }
      ]
    }
  ]
}